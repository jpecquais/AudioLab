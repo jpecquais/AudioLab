{
 "cells": [
  {
   "cell_type": "code",
   "execution_count": null,
   "metadata": {
    "id": "y5q4tCWIQErU"
   },
   "outputs": [],
   "source": [
    "## Colab Conditioned Training Script\n",
    "#     This allows the user to condition models on a parameter such as gain.\n",
    "#     Edit the \"prep_wav_cond.py\" file to reference your wav files and \n",
    "#     conditioning parameter and upload your wav files to Colab. \n",
    "#     The model will expect two inputs: (AudioSample, ConditioningParam)\n",
    "\n",
    "!git clone https://github.com/GuitarML/Automated-GuitarAmpModelling.git"
   ]
  },
  {
   "cell_type": "code",
   "execution_count": null,
   "metadata": {
    "id": "aPo-p-OwQEo8"
   },
   "outputs": [],
   "source": [
    "cd Automated-GuitarAmpModelling/"
   ]
  },
  {
   "cell_type": "code",
   "execution_count": null,
   "metadata": {
    "id": "eUDHx2OBQEmU"
   },
   "outputs": [],
   "source": [
    "!git submodule update --init --recursive"
   ]
  },
  {
   "cell_type": "code",
   "execution_count": 68,
   "metadata": {
    "id": "QURcRfTeQEgl"
   },
   "outputs": [],
   "source": [
    "# !IMPORTANT! After uploading your wav files, ensure to edit the \"file_map\" \n",
    "#  dictionary variable in the prep_wav_cond.py script towards the top of the file.\n",
    "#  This is where you set your conditioning values and wav filenames. \n",
    "#  This will map each conditioning value to the input/output wav files. \n",
    "\n",
    "!python prep_wav_cond.py ht40cond"
   ]
  },
  {
   "cell_type": "code",
   "execution_count": 69,
   "metadata": {
    "id": "sx7kiBpaQEY0"
   },
   "outputs": [],
   "source": [
    "# This command runs the training process. the \"-is 2\" argument tells it to expect\n",
    "#  two inputs, one for the audio sample and one for the conditioning parameter.\n",
    "#  For example: (audioSampleFloat, GainValueFloat) for each input.\n",
    "\n",
    "# Name your config in the following command\n",
    "# The model will be located in Results/\n",
    "\n",
    "!python dist_model_recnet.py -l \"RNN3-ht40cond\" -is 2"
   ]
  },
  {
   "cell_type": "code",
   "execution_count": null,
   "metadata": {
    "id": "mcmkAD2SQESV"
   },
   "outputs": [],
   "source": [
    "# Name your config in the following command\n",
    "# The plots will be generated in the Results/modelName/ directory\n",
    "\n",
    "!python plot.py ht40cond"
   ]
  }
 ],
 "metadata": {
  "colab": {
   "collapsed_sections": [],
   "name": "Welcome To Colaboratory",
   "provenance": []
  },
  "kernelspec": {
   "display_name": "Python 3 (ipykernel)",
   "language": "python",
   "name": "python3"
  },
  "language_info": {
   "codemirror_mode": {
    "name": "ipython",
    "version": 3
   },
   "file_extension": ".py",
   "mimetype": "text/x-python",
   "name": "python",
   "nbconvert_exporter": "python",
   "pygments_lexer": "ipython3",
   "version": "3.9.5"
  }
 },
 "nbformat": 4,
 "nbformat_minor": 1
}
