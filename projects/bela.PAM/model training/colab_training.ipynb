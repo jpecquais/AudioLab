{
 "cells": [
  {
   "cell_type": "code",
   "execution_count": null,
   "metadata": {
    "id": "FCRhPNGrBUN8"
   },
   "outputs": [],
   "source": [
    "!git clone https://github.com/GuitarML/Automated-GuitarAmpModelling.git"
   ]
  },
  {
   "cell_type": "code",
   "execution_count": null,
   "metadata": {
    "id": "sH-hUlLahokT"
   },
   "outputs": [],
   "source": [
    "cd Automated-GuitarAmpModelling/\n"
   ]
  },
  {
   "cell_type": "code",
   "execution_count": null,
   "metadata": {
    "id": "qGLvi0yQiJNg"
   },
   "outputs": [],
   "source": [
    "!git submodule update --init --recursive"
   ]
  },
  {
   "cell_type": "code",
   "execution_count": 7,
   "metadata": {
    "id": "1RST7hztmHMg"
   },
   "outputs": [],
   "source": [
    "# Upload your input.wav and output.wav, and add your config to the config directory.\n",
    "\n",
    "# Name the .wav files and config file appropriately in the following command\n",
    "!python prep_wav.py acoustic1-pre -s input.wav output.wav "
   ]
  },
  {
   "cell_type": "code",
   "execution_count": null,
   "metadata": {
    "id": "1tA0uN4MC_Zx"
   },
   "outputs": [],
   "source": [
    "# Name your config in the following command\n",
    "# The model will be located in Results/\n",
    "!python dist_model_recnet.py -l \"RNN3-acoustic1-pre\""
   ]
  },
  {
   "cell_type": "code",
   "execution_count": null,
   "metadata": {
    "id": "nwf9Mu8Y1wTq"
   },
   "outputs": [],
   "source": [
    "# Name your config in the following command\n",
    "# The plots will be generated in the Results/modelName/ directory\n",
    "!python plot.py acoustic1-pre\n"
   ]
  }
 ],
 "metadata": {
  "accelerator": "GPU",
  "colab": {
   "collapsed_sections": [],
   "name": "colab_training.ipynb",
   "provenance": []
  },
  "kernelspec": {
   "display_name": "Python 3 (ipykernel)",
   "language": "python",
   "name": "python3"
  },
  "language_info": {
   "codemirror_mode": {
    "name": "ipython",
    "version": 3
   },
   "file_extension": ".py",
   "mimetype": "text/x-python",
   "name": "python",
   "nbconvert_exporter": "python",
   "pygments_lexer": "ipython3",
   "version": "3.9.5"
  }
 },
 "nbformat": 4,
 "nbformat_minor": 1
}
